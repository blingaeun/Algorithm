{
 "cells": [
  {
   "cell_type": "markdown",
   "metadata": {},
   "source": [
    "# 크로아티아 알파벳"
   ]
  },
  {
   "cell_type": "code",
   "execution_count": 4,
   "metadata": {
    "scrolled": true
   },
   "outputs": [
    {
     "name": "stdout",
     "output_type": "stream",
     "text": [
      "ljes=njak\n",
      "6\n"
     ]
    }
   ],
   "source": [
    "cro = ['c=','c-','dz=','d-','lj','nj','s=','z=']\n",
    "\n",
    "alphabet = input()\n",
    "\n",
    "for i in cro:\n",
    "    alphabet = alphabet.replace(i,'#')\n",
    "\n",
    "print(len(alphabet))\n"
   ]
  },
  {
   "cell_type": "markdown",
   "metadata": {},
   "source": [
    "# 손익분기점"
   ]
  },
  {
   "cell_type": "code",
   "execution_count": 5,
   "metadata": {},
   "outputs": [
    {
     "name": "stdout",
     "output_type": "stream",
     "text": [
      "1000 70 170\n",
      "11\n"
     ]
    }
   ],
   "source": [
    "A, B, C = list(map(int,input().split()))\n",
    "count = 0\n",
    "if (C <= B):\n",
    "    count = -1\n",
    "\n",
    "else:\n",
    "    count = A // (C-B) + 1\n",
    "    \n",
    "print(count)"
   ]
  },
  {
   "cell_type": "markdown",
   "metadata": {},
   "source": [
    "# 벌집"
   ]
  },
  {
   "cell_type": "code",
   "execution_count": 7,
   "metadata": {},
   "outputs": [
    {
     "name": "stdout",
     "output_type": "stream",
     "text": [
      "13\n",
      "3\n"
     ]
    }
   ],
   "source": [
    "a = int(input())\n",
    "one = 1\n",
    "six = 6\n",
    "room = 1\n",
    "if a == 1:\n",
    "    print(1)\n",
    "else:\n",
    "    while True:\n",
    "        one = one + six\n",
    "        room += 1\n",
    "        if a <= one:\n",
    "            print(room)\n",
    "            break\n",
    "        six += 6\n"
   ]
  }
 ],
 "metadata": {
  "kernelspec": {
   "display_name": "Python 3",
   "language": "python",
   "name": "python3"
  },
  "language_info": {
   "codemirror_mode": {
    "name": "ipython",
    "version": 3
   },
   "file_extension": ".py",
   "mimetype": "text/x-python",
   "name": "python",
   "nbconvert_exporter": "python",
   "pygments_lexer": "ipython3",
   "version": "3.9.1"
  }
 },
 "nbformat": 4,
 "nbformat_minor": 4
}
