{
 "cells": [
  {
   "cell_type": "code",
   "execution_count": 2,
   "metadata": {},
   "outputs": [
    {
     "name": "stdout",
     "output_type": "stream",
     "text": [
      "year_and_date : 19850502\n"
     ]
    }
   ],
   "source": [
    "birth_year='1985'\n",
    "birth_date='0502'\n",
    "year_and_date = birth_year + birth_date\n",
    "\n",
    "print(\"year_and_date : {}\".format(year_and_date))"
   ]
  },
  {
   "cell_type": "code",
   "execution_count": 3,
   "metadata": {},
   "outputs": [
    {
     "name": "stdout",
     "output_type": "stream",
     "text": [
      "Hello World\n"
     ]
    }
   ],
   "source": [
    "print('Hello World')"
   ]
  },
  {
   "cell_type": "code",
   "execution_count": 4,
   "metadata": {},
   "outputs": [
    {
     "name": "stdout",
     "output_type": "stream",
     "text": [
      "Hello World\n",
      "Hello World\n",
      "Hello World\n"
     ]
    }
   ],
   "source": [
    "# print() 함수는 괄호안에 있는 내용을 출력하는 역할\n",
    "print('Hello World')\n",
    "print('Hello World')\n",
    "print('Hello World')"
   ]
  },
  {
   "cell_type": "code",
   "execution_count": 5,
   "metadata": {},
   "outputs": [
    {
     "name": "stdout",
     "output_type": "stream",
     "text": [
      "안녕 나는 김가은 이야\n",
      "안녕 나는 김가은 이야\n"
     ]
    }
   ],
   "source": [
    "# 변수의 선언은 변수의 이름 = 값 형태로 이루어짐\n",
    "\n",
    "identity = '김가은'\n",
    "\n",
    "print('안녕 나는','김가은','이야')\n",
    "print('안녕 나는', identity ,'이야')"
   ]
  },
  {
   "cell_type": "code",
   "execution_count": 6,
   "metadata": {},
   "outputs": [
    {
     "name": "stdout",
     "output_type": "stream",
     "text": [
      "여러줄의 주석은\n",
      "따옴표 세개로 감싼다.\n"
     ]
    }
   ],
   "source": [
    "print('여러줄의 주석은')\n",
    "'''\n",
    "안녕\n",
    "안녕\n",
    "내가 보이니\n",
    "안보일걸\n",
    "'''\n",
    "print('따옴표 세개로 감싼다.')"
   ]
  },
  {
   "cell_type": "code",
   "execution_count": 7,
   "metadata": {},
   "outputs": [
    {
     "name": "stdout",
     "output_type": "stream",
     "text": [
      "김가은 은 이제 22 살\n",
      "내년에는 23 살\n",
      "81 6.0 1024 3\n"
     ]
    }
   ],
   "source": [
    "my_name = '김가은'\n",
    "my_age = 22 #숫자\n",
    "\n",
    "print(my_name, '은 이제', my_age, '살')\n",
    "\n",
    "my_next_age = my_age + 1\n",
    "\n",
    "print('내년에는', my_next_age, '살')\n",
    "\n",
    "multiply = 9 * 9 \n",
    "divide = 30 / 5 \n",
    "power = 2 ** 10\n",
    "reminder = 15 % 4\n",
    "\n",
    "print(multiply, divide, power, reminder)"
   ]
  },
  {
   "cell_type": "code",
   "execution_count": 8,
   "metadata": {},
   "outputs": [
    {
     "name": "stdout",
     "output_type": "stream",
     "text": [
      "20151991\n",
      "4006\n"
     ]
    }
   ],
   "source": [
    "# 문자열 더하기, 숫자열 더하기\n",
    "\n",
    "text = '2015' + '1991'\n",
    "number = 2015 + 1991\n",
    "\n",
    "print(text)\n",
    "print(number)"
   ]
  },
  {
   "cell_type": "code",
   "execution_count": null,
   "metadata": {},
   "outputs": [],
   "source": []
  }
 ],
 "metadata": {
  "kernelspec": {
   "display_name": "Python 3",
   "language": "python",
   "name": "python3"
  },
  "language_info": {
   "codemirror_mode": {
    "name": "ipython",
    "version": 3
   },
   "file_extension": ".py",
   "mimetype": "text/x-python",
   "name": "python",
   "nbconvert_exporter": "python",
   "pygments_lexer": "ipython3",
   "version": "3.9.1"
  }
 },
 "nbformat": 4,
 "nbformat_minor": 4
}
