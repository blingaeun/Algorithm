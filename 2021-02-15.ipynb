{
 "cells": [
  {
   "cell_type": "markdown",
   "metadata": {},
   "source": [
    "# 바이러스"
   ]
  },
  {
   "cell_type": "code",
   "execution_count": null,
   "metadata": {},
   "outputs": [],
   "source": [
    "from sys import stdin\n",
    "read = stdin.readline\n",
    "dic={}\n",
    "for i in range(int(read())):\n",
    "    dic[i+1] = set()\n",
    "for j in range(int(read())):\n",
    "    a, b = map(int,read().split())\n",
    "    dic[a].add(b)\n",
    "    dic[b].add(a)\n",
    "\n",
    "def dfs(start, dic):\n",
    "    for i in dic[start]:\n",
    "        if i not in visited:\n",
    "            visited.append(i)\n",
    "            dfs(i, dic)\n",
    "visited = []\n",
    "dfs(1, dic)\n",
    "print(len(visited)-1)"
   ]
  }
 ],
 "metadata": {
  "kernelspec": {
   "display_name": "Python 3",
   "language": "python",
   "name": "python3"
  },
  "language_info": {
   "codemirror_mode": {
    "name": "ipython",
    "version": 3
   },
   "file_extension": ".py",
   "mimetype": "text/x-python",
   "name": "python",
   "nbconvert_exporter": "python",
   "pygments_lexer": "ipython3",
   "version": "3.9.1"
  }
 },
 "nbformat": 4,
 "nbformat_minor": 4
}
