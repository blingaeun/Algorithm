{
 "cells": [
  {
   "cell_type": "markdown",
   "metadata": {},
   "source": [
    "# format"
   ]
  },
  {
   "cell_type": "code",
   "execution_count": 1,
   "metadata": {},
   "outputs": [
    {
     "name": "stdout",
     "output_type": "stream",
     "text": [
      "20 번 손님 안녕하세요 . 문자열 포맷의 세계 에 오신 것을 환영합니다 !\n",
      "{}번 손님, {}. {}에 오신 것을 {}!\n",
      "20번 손님, 안녕하세요. 문자열 포맷의 세계에 오신 것을 환영합니다!\n"
     ]
    }
   ],
   "source": [
    "number = 20\n",
    "greeting = '안녕하세요'\n",
    "place = '문자열 포맷의 세계'\n",
    "welcome = '환영합니다'\n",
    "\n",
    "print(number,'번 손님',greeting,'.',place,'에 오신 것을',welcome,'!')\n",
    "\n",
    "base = '{}번 손님, {}. {}에 오신 것을 {}!'\n",
    "new_way = base.format(number, greeting, place, welcome)\n",
    "\n",
    "print(base)\n",
    "print(new_way)"
   ]
  },
  {
   "cell_type": "code",
   "execution_count": 3,
   "metadata": {},
   "outputs": [
    {
     "name": "stdout",
     "output_type": "stream",
     "text": [
      "안녕하세요. 제 이름은 김가은이고 좋아하는 색깔은 핑크색입니다\n"
     ]
    }
   ],
   "source": [
    "name = '김가은'\n",
    "color = '핑크색'\n",
    "print('안녕하세요. 제 이름은 {}이고 좋아하는 색깔은 {}입니다'.format(name,color))"
   ]
  },
  {
   "cell_type": "markdown",
   "metadata": {},
   "source": [
    "# 문자열"
   ]
  },
  {
   "cell_type": "code",
   "execution_count": 4,
   "metadata": {},
   "outputs": [
    {
     "name": "stdout",
     "output_type": "stream",
     "text": [
      "some text 어떤 텍스트 some text도 어떤 텍스트도 지금 이것도 문자열\n"
     ]
    }
   ],
   "source": [
    "string1 = 'some text'\n",
    "string2 = '어떤 텍스트'\n",
    "string3 = '{}도 {}도 지금 이것도 문자열'.format(string1, string2)\n",
    "\n",
    "print(string1, string2, string3)"
   ]
  },
  {
   "cell_type": "code",
   "execution_count": 5,
   "metadata": {},
   "outputs": [
    {
     "name": "stdout",
     "output_type": "stream",
     "text": [
      "따옴표 세개를 쓰면 \"와 ' 를 다 쓸 수 있다.\n",
      "그리고 여러줄에 걸쳐서 쓸 수도 있\n",
      "어 요.\n"
     ]
    }
   ],
   "source": [
    "string1 = '''따옴표 세개를 쓰면 \"와 ' 를 다 쓸 수 있다.\n",
    "그리고 여러줄에 걸쳐서 쓸 수도 있\n",
    "어 요.'''\n",
    "\n",
    "print(string1)"
   ]
  },
  {
   "cell_type": "markdown",
   "metadata": {},
   "source": [
    "# 정수와 실수"
   ]
  },
  {
   "cell_type": "code",
   "execution_count": 6,
   "metadata": {},
   "outputs": [
    {
     "name": "stdout",
     "output_type": "stream",
     "text": [
      "5\n",
      "5.0\n",
      "5.0\n"
     ]
    }
   ],
   "source": [
    "print(int(5.0)) #정수로\n",
    "print(float(5)) # 부동소수점으로\n",
    "print(5*1.0) # 부동소수점으로"
   ]
  },
  {
   "cell_type": "markdown",
   "metadata": {},
   "source": [
    "# 사용자 입력 받기"
   ]
  },
  {
   "cell_type": "code",
   "execution_count": 10,
   "metadata": {},
   "outputs": [
    {
     "name": "stdout",
     "output_type": "stream",
     "text": [
      "가위 바위 보 가운데 하나를 내 주세요>보\n",
      "mine: 보\n"
     ]
    }
   ],
   "source": [
    "mine = input('가위 바위 보 가운데 하나를 내 주세요>')\n",
    "print('mine:',mine)"
   ]
  },
  {
   "cell_type": "code",
   "execution_count": null,
   "metadata": {},
   "outputs": [],
   "source": [
    "input('text') == print('text', end='')\n",
    "                 input()"
   ]
  }
 ],
 "metadata": {
  "kernelspec": {
   "display_name": "Python 3",
   "language": "python",
   "name": "python3"
  },
  "language_info": {
   "codemirror_mode": {
    "name": "ipython",
    "version": 3
   },
   "file_extension": ".py",
   "mimetype": "text/x-python",
   "name": "python",
   "nbconvert_exporter": "python",
   "pygments_lexer": "ipython3",
   "version": "3.9.1"
  }
 },
 "nbformat": 4,
 "nbformat_minor": 4
}
