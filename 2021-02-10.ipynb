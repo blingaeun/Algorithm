{
 "cells": [
  {
   "cell_type": "markdown",
   "metadata": {},
   "source": [
    "# 최단경로"
   ]
  },
  {
   "cell_type": "code",
   "execution_count": 2,
   "metadata": {},
   "outputs": [
    {
     "name": "stdout",
     "output_type": "stream",
     "text": [
      "5 6\n",
      "1\n",
      "5 1 1\n",
      "1 2 2\n",
      "1 3 3\n",
      "2 3 4\n",
      "2 4 5\n",
      "3 4 6\n",
      "0\n",
      "2\n",
      "3\n",
      "7\n",
      "INF\n"
     ]
    }
   ],
   "source": [
    "import sys\n",
    "from heapq import heappush, heappop\n",
    "inf = 100000000\n",
    "v, e = map(int, input().split())\n",
    "k = int(input())\n",
    "s = [[] for _ in range(v + 1)]\n",
    "dp = [inf] * (v + 1)\n",
    "heap = []\n",
    "def dijkstra(start):\n",
    "    dp[start] = 0\n",
    "    heappush(heap, [0, start])\n",
    "    while heap:\n",
    "        w, n = heappop(heap)\n",
    "        for n_n, wei in s[n]:\n",
    "            n_w = wei + w\n",
    "            if n_w < dp[n_n]:\n",
    "                dp[n_n] = n_w\n",
    "                heappush(heap, [n_w, n_n])\n",
    "for i in range(e):\n",
    "    u, v, w = map(int, input().split())\n",
    "    s[u].append([v, w])\n",
    "dijkstra(k)\n",
    "for i in dp[1:]:\n",
    "    print(i if i != inf else \"INF\")"
   ]
  }
 ],
 "metadata": {
  "kernelspec": {
   "display_name": "Python 3",
   "language": "python",
   "name": "python3"
  },
  "language_info": {
   "codemirror_mode": {
    "name": "ipython",
    "version": 3
   },
   "file_extension": ".py",
   "mimetype": "text/x-python",
   "name": "python",
   "nbconvert_exporter": "python",
   "pygments_lexer": "ipython3",
   "version": "3.9.1"
  }
 },
 "nbformat": 4,
 "nbformat_minor": 4
}
