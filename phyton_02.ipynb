{
 "cells": [
  {
   "cell_type": "code",
   "execution_count": 2,
   "metadata": {},
   "outputs": [
    {
     "name": "stdout",
     "output_type": "stream",
     "text": [
      "안녕안녕안녕\n"
     ]
    }
   ],
   "source": [
    "\n",
    "people = 3\n",
    "apple = 4\n",
    "\n",
    "if people < apple / 5:\n",
    "    print('신나는 사과 파티! 배 터지게 먹자! ')\n",
    "    \n",
    "if apple % people > 0:\n",
    "    print('안녕안녕안녕')\n",
    "    \n",
    "if people > apple:\n",
    "    print('이 글은 안보일거지룽')"
   ]
  },
  {
   "cell_type": "code",
   "execution_count": 3,
   "metadata": {},
   "outputs": [
    {
     "name": "stdout",
     "output_type": "stream",
     "text": [
      "참일때는 문장이 실행됩니다\n"
     ]
    }
   ],
   "source": [
    "if True:\n",
    "    print('참일때는 문장이 실행됩니다')\n",
    "    \n",
    "if False:\n",
    "    print('거짓이면 문장이 실행 안됨')"
   ]
  },
  {
   "cell_type": "code",
   "execution_count": 4,
   "metadata": {},
   "outputs": [
    {
     "name": "stdout",
     "output_type": "stream",
     "text": [
      "15는 3의 배수입니다.\n"
     ]
    }
   ],
   "source": [
    "number = 15\n",
    "\n",
    "if number % 3 == 0: #number가 3의 배수인지 확인합니다.\n",
    "    print(\"{}는 3의 배수입니다.\".format(number))#이 코드는 실행됩니다.\n",
    "\n",
    "number = 16\n",
    "if number % 3 == 0: #number가 3의 배수인지 확인합니다.\n",
    "    print(\"{}는 3의 배수입니다.\".format(number))#이 코드는 실행되지 않습니다."
   ]
  },
  {
   "cell_type": "code",
   "execution_count": 5,
   "metadata": {},
   "outputs": [],
   "source": [
    "#아래 두 줄의 코드는 변수 hour에 현재 시간을 저장합니다.\n",
    "\n",
    "from datetime import datetime \n",
    "hour = datetime.now().hour\n",
    "\n",
    "if hour % 6 == 0:\n",
    "    print('종이 울립니다.')"
   ]
  },
  {
   "cell_type": "code",
   "execution_count": null,
   "metadata": {},
   "outputs": [],
   "source": []
  }
 ],
 "metadata": {
  "kernelspec": {
   "display_name": "Python 3",
   "language": "python",
   "name": "python3"
  },
  "language_info": {
   "codemirror_mode": {
    "name": "ipython",
    "version": 3
   },
   "file_extension": ".py",
   "mimetype": "text/x-python",
   "name": "python",
   "nbconvert_exporter": "python",
   "pygments_lexer": "ipython3",
   "version": "3.9.1"
  }
 },
 "nbformat": 4,
 "nbformat_minor": 4
}
