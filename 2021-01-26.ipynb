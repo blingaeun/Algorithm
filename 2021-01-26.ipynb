{
 "cells": [
  {
   "cell_type": "markdown",
   "metadata": {},
   "source": [
    "# Fly me to the Alpha Centauri"
   ]
  },
  {
   "cell_type": "code",
   "execution_count": 1,
   "metadata": {},
   "outputs": [
    {
     "name": "stdout",
     "output_type": "stream",
     "text": [
      "3\n",
      "0 3\n",
      "3\n",
      "1 5\n",
      "3\n",
      "45  50\n",
      "4\n"
     ]
    }
   ],
   "source": [
    "t = int(input())\n",
    "\n",
    "for _ in range(t):\n",
    "    x, y = map(int,input().split())\n",
    "    distance = y - x\n",
    "    count = 0\n",
    "    move = 1\n",
    "    move_plus = 0\n",
    "    while move_plus < distance :\n",
    "        count += 1\n",
    "        move_plus += move\n",
    "        if count % 2 == 0 :\n",
    "            move += 1  \n",
    "    print(count)"
   ]
  },
  {
   "cell_type": "markdown",
   "metadata": {},
   "source": [
    "# 분수찾기"
   ]
  },
  {
   "cell_type": "code",
   "execution_count": 2,
   "metadata": {},
   "outputs": [
    {
     "name": "stdout",
     "output_type": "stream",
     "text": [
      "14\n",
      "2/4\n"
     ]
    }
   ],
   "source": [
    "X=int(input())\n",
    "\n",
    "line=1\n",
    "while X>line:\n",
    "    X-=line\n",
    "    line+=1\n",
    "    \n",
    "if line%2==0:\n",
    "    a=X\n",
    "    b=line-X+1\n",
    "else:\n",
    "    a=line-X+1\n",
    "    b=X\n",
    "    \n",
    "print(a, '/', b, sep='')"
   ]
  }
 ],
 "metadata": {
  "kernelspec": {
   "display_name": "Python 3",
   "language": "python",
   "name": "python3"
  },
  "language_info": {
   "codemirror_mode": {
    "name": "ipython",
    "version": 3
   },
   "file_extension": ".py",
   "mimetype": "text/x-python",
   "name": "python",
   "nbconvert_exporter": "python",
   "pygments_lexer": "ipython3",
   "version": "3.9.1"
  }
 },
 "nbformat": 4,
 "nbformat_minor": 4
}
