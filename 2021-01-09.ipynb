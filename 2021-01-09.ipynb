{
 "cells": [
  {
   "cell_type": "markdown",
   "metadata": {},
   "source": [
    "# while문 쓰기 "
   ]
  },
  {
   "cell_type": "code",
   "execution_count": 1,
   "metadata": {},
   "outputs": [
    {
     "name": "stdout",
     "output_type": "stream",
     "text": [
      "가위, 바위, 보 중에 선택하세요>가\n",
      "가위, 바위, 보 중에 선택하세요>나\n",
      "가위, 바위, 보 중에 선택하세요>다\n",
      "가위, 바위, 보 중에 선택하세요>가위\n",
      "선택된 값은: 가위\n"
     ]
    }
   ],
   "source": [
    "selected = None\n",
    "while selected not in ['가위','바위','보']:\n",
    "    selected = input('가위, 바위, 보 중에 선택하세요>')\n",
    "    \n",
    "print('선택된 값은:', selected)"
   ]
  },
  {
   "cell_type": "code",
   "execution_count": 3,
   "metadata": {},
   "outputs": [
    {
     "name": "stdout",
     "output_type": "stream",
     "text": [
      "가위\n",
      "보\n",
      "보\n"
     ]
    }
   ],
   "source": [
    "patterns = ['가위', '보', '보']\n",
    "for pattern in patterns:\n",
    "    print(pattern)"
   ]
  },
  {
   "cell_type": "code",
   "execution_count": 4,
   "metadata": {},
   "outputs": [
    {
     "name": "stdout",
     "output_type": "stream",
     "text": [
      "가위\n",
      "보\n",
      "보\n"
     ]
    }
   ],
   "source": [
    "patterns = ['가위', '보', '보']\n",
    "\n",
    "for i in range (len(patterns)):\n",
    "    print(patterns[i])"
   ]
  },
  {
   "cell_type": "code",
   "execution_count": 5,
   "metadata": {},
   "outputs": [
    {
     "name": "stdout",
     "output_type": "stream",
     "text": [
      "가위\n",
      "보\n",
      "보\n"
     ]
    }
   ],
   "source": [
    "patterns = ['가위', '보', '보']\n",
    "length = len(patterns)\n",
    "i = 0\n",
    "while i < length:\n",
    "    print(patterns[i])\n",
    "    i = i + 1"
   ]
  },
  {
   "cell_type": "code",
   "execution_count": 6,
   "metadata": {},
   "outputs": [
    {
     "name": "stdout",
     "output_type": "stream",
     "text": [
      "1\n",
      "2\n",
      "3\n",
      "4\n",
      "5\n"
     ]
    }
   ],
   "source": [
    "numbers = [1,2,3,4,5]\n",
    "length = len(numbers)\n",
    "i = 0\n",
    "while i < length:\n",
    "    print(numbers[i])\n",
    "    i += 1"
   ]
  },
  {
   "cell_type": "markdown",
   "metadata": {},
   "source": [
    "# break, continue"
   ]
  },
  {
   "cell_type": "code",
   "execution_count": 7,
   "metadata": {},
   "outputs": [
    {
     "name": "stdout",
     "output_type": "stream",
     "text": [
      "3\n",
      "237\n"
     ]
    }
   ],
   "source": [
    "list = [1,2,3,5,7,2,5,237,55]\n",
    "for val in list:\n",
    "    if val % 3 == 0:\n",
    "        print(val)"
   ]
  },
  {
   "cell_type": "code",
   "execution_count": 8,
   "metadata": {},
   "outputs": [
    {
     "name": "stdout",
     "output_type": "stream",
     "text": [
      "3\n"
     ]
    }
   ],
   "source": [
    " list = [1,2,3,5,7,2,5,237,55]\n",
    "for val in list:\n",
    "    if val % 3 == 0:\n",
    "        print(val)\n",
    "        break"
   ]
  },
  {
   "cell_type": "code",
   "execution_count": 17,
   "metadata": {},
   "outputs": [
    {
     "name": "stdout",
     "output_type": "stream",
     "text": [
      "0\n",
      "0\n",
      "0\n",
      "0\n",
      "2\n",
      "2\n",
      "2\n",
      "2\n",
      "4\n",
      "4\n",
      "4\n",
      "4\n",
      "6\n",
      "6\n",
      "6\n",
      "6\n",
      "8\n",
      "8\n",
      "8\n",
      "8\n"
     ]
    }
   ],
   "source": [
    "for i in range(10):\n",
    "    if i % 2 != 0:\n",
    "        continue\n",
    "    print(i)\n",
    "    print(i)\n",
    "    print(i)\n",
    "    print(i)"
   ]
  },
  {
   "cell_type": "code",
   "execution_count": 16,
   "metadata": {},
   "outputs": [
    {
     "name": "stdout",
     "output_type": "stream",
     "text": [
      "0\n",
      "0\n",
      "0\n",
      "0\n",
      "2\n",
      "2\n",
      "2\n",
      "2\n",
      "4\n",
      "4\n",
      "4\n",
      "4\n",
      "6\n",
      "6\n",
      "6\n",
      "6\n",
      "8\n",
      "8\n",
      "8\n",
      "8\n"
     ]
    }
   ],
   "source": [
    "for i in range(10):\n",
    "    if i % 2 == 0:\n",
    "        print(i)\n",
    "        print(i)\n",
    "        print(i)\n",
    "        print(i)"
   ]
  },
  {
   "cell_type": "code",
   "execution_count": 18,
   "metadata": {},
   "outputs": [
    {
     "name": "stdout",
     "output_type": "stream",
     "text": [
      "사이즈 32인 바지는 5번째에 있다.\n"
     ]
    }
   ],
   "source": [
    "sizes = [33,35,34,37,32,35,39,32,35,29]\n",
    "for i,size in enumerate(sizes):\n",
    "    if size == 32:\n",
    "        print(\"사이즈 32인 바지는 {}번째에 있다.\".format(i+1))\n",
    "        break"
   ]
  },
  {
   "cell_type": "code",
   "execution_count": 19,
   "metadata": {},
   "outputs": [
    {
     "name": "stdout",
     "output_type": "stream",
     "text": [
      "1를 2로 나누면 0.5\n",
      "0으로 나눌 수는 없습니다.\n"
     ]
    }
   ],
   "source": [
    "numbers = [ (1,2),(10,0) ]\n",
    "\n",
    "for a,b in numbers:\n",
    "    if b == 0:\n",
    "        print(\"0으로 나눌 수는 없습니다.\")\n",
    "        continue\n",
    "    print(\"{}를 {}로 나누면 {}\".format(a,b,a/b))"
   ]
  }
 ],
 "metadata": {
  "kernelspec": {
   "display_name": "Python 3",
   "language": "python",
   "name": "python3"
  },
  "language_info": {
   "codemirror_mode": {
    "name": "ipython",
    "version": 3
   },
   "file_extension": ".py",
   "mimetype": "text/x-python",
   "name": "python",
   "nbconvert_exporter": "python",
   "pygments_lexer": "ipython3",
   "version": "3.9.1"
  }
 },
 "nbformat": 4,
 "nbformat_minor": 4
}
