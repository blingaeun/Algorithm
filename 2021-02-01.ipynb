{
 "cells": [
  {
   "cell_type": "markdown",
   "metadata": {},
   "source": [
    "# 수 정렬하기 3"
   ]
  },
  {
   "cell_type": "code",
   "execution_count": 1,
   "metadata": {},
   "outputs": [
    {
     "name": "stdout",
     "output_type": "stream",
     "text": [
      "10\n",
      "5\n",
      "2\n",
      "3\n",
      "1\n",
      "4\n",
      "2\n",
      "3\n",
      "5\n",
      "1\n",
      "7\n",
      "1\n",
      "1\n",
      "2\n",
      "2\n",
      "3\n",
      "3\n",
      "4\n",
      "5\n",
      "5\n",
      "7\n"
     ]
    }
   ],
   "source": [
    "N = int(input())\n",
    "my_dict = {}\n",
    "\n",
    "for i in range(N):\n",
    "    num = int(input())\n",
    "    \n",
    "    if num not in my_dict.keys():\n",
    "        my_dict[num] = 1\n",
    "    else:\n",
    "        my_dict[num] = my_dict[num] + 1\n",
    "        \n",
    "sorted_dict = sorted(my_dict.items())\n",
    "\n",
    "for i in range(len(sorted_dict)):\n",
    "    for j in range(sorted_dict[i][1]):\n",
    "        print(sorted_dict[i][0])\n"
   ]
  }
 ],
 "metadata": {
  "kernelspec": {
   "display_name": "Python 3",
   "language": "python",
   "name": "python3"
  },
  "language_info": {
   "codemirror_mode": {
    "name": "ipython",
    "version": 3
   },
   "file_extension": ".py",
   "mimetype": "text/x-python",
   "name": "python",
   "nbconvert_exporter": "python",
   "pygments_lexer": "ipython3",
   "version": "3.9.1"
  }
 },
 "nbformat": 4,
 "nbformat_minor": 4
}
