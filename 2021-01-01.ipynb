{
 "cells": [
  {
   "cell_type": "markdown",
   "metadata": {},
   "source": [
    "# 블럭"
   ]
  },
  {
   "cell_type": "code",
   "execution_count": 2,
   "metadata": {},
   "outputs": [
    {
     "name": "stdout",
     "output_type": "stream",
     "text": [
      "블럭에 속한 코드\n",
      "또 한 줄 더\n",
      "블럭의 끝 코드\n",
      "블럭 끝\n"
     ]
    }
   ],
   "source": [
    "if True:\n",
    "    print('블럭에 속한 코드')\n",
    "    \n",
    "    if False:\n",
    "        print('한 줄 더')\n",
    "        \n",
    "    if True:\n",
    "        print('또 한 줄 더')\n",
    "        \n",
    "    print('블럭의 끝 코드')\n",
    "    \n",
    "print('블럭 끝')"
   ]
  },
  {
   "cell_type": "markdown",
   "metadata": {},
   "source": [
    "# if else"
   ]
  },
  {
   "cell_type": "code",
   "execution_count": 7,
   "metadata": {},
   "outputs": [
    {
     "name": "stdout",
     "output_type": "stream",
     "text": [
      "졌다...\n"
     ]
    }
   ],
   "source": [
    "SCISSOR = '가위'\n",
    "ROCK = '바위'\n",
    "PAPER = '보'\n",
    "\n",
    "WIN = '이겼다!'\n",
    "DRAW = '비겼다.'\n",
    "LOSE = '졌다...'\n",
    "\n",
    "mine = '가위'\n",
    "yours = '바위'\n",
    "\n",
    "if mine == yours:\n",
    "    result = DRAW\n",
    "else:\n",
    "    if mine == SCISSOR:\n",
    "        if yours == ROCK:\n",
    "            result = LOSE\n",
    "        else:\n",
    "            result = WIN\n",
    "    elif mine == ROCK:\n",
    "        if yours == PAPER:\n",
    "            result = LOSE\n",
    "        else:\n",
    "            result = WIN\n",
    "    elif mine == PAPER:\n",
    "        if yours == SCISSOR:\n",
    "            result = LOSE\n",
    "        else:\n",
    "            result  = WIN\n",
    "    else:\n",
    "        print('이상해요')\n",
    "        \n",
    "print(result)"
   ]
  },
  {
   "cell_type": "markdown",
   "metadata": {},
   "source": [
    "# elif"
   ]
  },
  {
   "cell_type": "code",
   "execution_count": 8,
   "metadata": {},
   "outputs": [
    {
     "name": "stdout",
     "output_type": "stream",
     "text": [
      "남자입니다\n"
     ]
    }
   ],
   "source": [
    "gender = '남자'\n",
    "\n",
    "if gender == '남자':\n",
    "    print('남자입니다')\n",
    "    \n",
    "elif gender == '여자':\n",
    "    print('여자입니다')\n",
    "    \n",
    "else:\n",
    "    print('논바이너리입니다')"
   ]
  },
  {
   "cell_type": "markdown",
   "metadata": {},
   "source": [
    "# 함수"
   ]
  },
  {
   "cell_type": "code",
   "execution_count": 10,
   "metadata": {},
   "outputs": [
    {
     "name": "stdout",
     "output_type": "stream",
     "text": [
      "\n",
      "안녕,함수!\n"
     ]
    }
   ],
   "source": [
    "def function():\n",
    "    print('안녕,함수!')\n",
    "    \n",
    "print() # 내장함수\n",
    "function() #직접 만든 함수"
   ]
  },
  {
   "cell_type": "code",
   "execution_count": 11,
   "metadata": {},
   "outputs": [
    {
     "name": "stdout",
     "output_type": "stream",
     "text": [
      "12\n"
     ]
    }
   ],
   "source": [
    "a = 5\n",
    "b = 7\n",
    "\n",
    "def add():\n",
    "    result = a + b\n",
    "    print(result)\n",
    "    \n",
    "add()"
   ]
  },
  {
   "cell_type": "markdown",
   "metadata": {},
   "source": [
    "# 매개변수"
   ]
  },
  {
   "cell_type": "code",
   "execution_count": 12,
   "metadata": {},
   "outputs": [
    {
     "ename": "IndentationError",
     "evalue": "expected an indented block (<ipython-input-12-3f9016a050f9>, line 1)",
     "output_type": "error",
     "traceback": [
      "\u001b[1;36m  File \u001b[1;32m\"<ipython-input-12-3f9016a050f9>\"\u001b[1;36m, line \u001b[1;32m1\u001b[0m\n\u001b[1;33m    def print_round(number):\u001b[0m\n\u001b[1;37m                            ^\u001b[0m\n\u001b[1;31mIndentationError\u001b[0m\u001b[1;31m:\u001b[0m expected an indented block\n"
     ]
    }
   ],
   "source": [
    "def print_round(number):\n",
    "    rounded = round(number)\n",
    "    print(rounded)\n",
    "    \n",
    "print_round(4.6)\n",
    "print_round(2.2)\n",
    "print_round(3.6)\n",
    "    "
   ]
  },
  {
   "cell_type": "code",
   "execution_count": 14,
   "metadata": {},
   "outputs": [
    {
     "name": "stdout",
     "output_type": "stream",
     "text": [
      "해는 2.0 또는 2.0\n",
      "해는 4.0 또는 4.0\n"
     ]
    }
   ],
   "source": [
    "def print_root(a, b, c):\n",
    "    r1 = (-b + (b ** 2 - 4 * a * c) ** 0.5) / (2 * a)\n",
    "    r2 = (-b + (b ** 2 - 4 * a * c) ** 0.5) / (2 * a)\n",
    "    \n",
    "    print('해는 {} 또는 {}'.format(r1, r2))\n",
    "    \n",
    "x = 1\n",
    "y = 2\n",
    "z = -8\n",
    "\n",
    "print_root(x, y, z)\n",
    "\n",
    "x = 2\n",
    "y = -6\n",
    "z = -8\n",
    "\n",
    "print_root(x, y, z)"
   ]
  },
  {
   "cell_type": "markdown",
   "metadata": {},
   "source": [
    "# 함수의 값"
   ]
  },
  {
   "cell_type": "code",
   "execution_count": 15,
   "metadata": {},
   "outputs": [
    {
     "name": "stdout",
     "output_type": "stream",
     "text": [
      "52\n"
     ]
    }
   ],
   "source": [
    "def add_10(value):\n",
    "    if value < 10:\n",
    "        result = 10\n",
    "    else:\n",
    "        result =  value + 10\n",
    "    return result \n",
    "\n",
    "n = add_10(42)\n",
    "print(n)"
   ]
  },
  {
   "cell_type": "code",
   "execution_count": null,
   "metadata": {},
   "outputs": [],
   "source": [
    " "
   ]
  }
 ],
 "metadata": {
  "kernelspec": {
   "display_name": "Python 3",
   "language": "python",
   "name": "python3"
  },
  "language_info": {
   "codemirror_mode": {
    "name": "ipython",
    "version": 3
   },
   "file_extension": ".py",
   "mimetype": "text/x-python",
   "name": "python",
   "nbconvert_exporter": "python",
   "pygments_lexer": "ipython3",
   "version": "3.9.1"
  }
 },
 "nbformat": 4,
 "nbformat_minor": 4
}
