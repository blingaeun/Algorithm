{
 "cells": [
  {
   "cell_type": "markdown",
   "metadata": {},
   "source": [
    "# 조합의 0의 개수"
   ]
  },
  {
   "cell_type": "code",
   "execution_count": 3,
   "metadata": {},
   "outputs": [
    {
     "name": "stdout",
     "output_type": "stream",
     "text": [
      "25 12\n",
      "2\n"
     ]
    }
   ],
   "source": [
    "\n",
    "n, m = map(int, input().split())\n",
    "\n",
    "def five(n):\n",
    "    answer = 0\n",
    "    while n != 0:\n",
    "        n = n // 5\n",
    "        answer += n\n",
    "    return answer\n",
    "\n",
    "\n",
    "def two(n):\n",
    "    answer = 0\n",
    "    while n != 0:\n",
    "        n = n // 2\n",
    "        answer += n\n",
    "    return answer\n",
    "\n",
    "if m == 0:\n",
    "    print(0)\n",
    "    \n",
    "else:       \n",
    "    print(min(two(n)-two(m)-two(n-m), five(n)-five(m)-five(n-m)))\n"
   ]
  }
 ],
 "metadata": {
  "kernelspec": {
   "display_name": "Python 3",
   "language": "python",
   "name": "python3"
  },
  "language_info": {
   "codemirror_mode": {
    "name": "ipython",
    "version": 3
   },
   "file_extension": ".py",
   "mimetype": "text/x-python",
   "name": "python",
   "nbconvert_exporter": "python",
   "pygments_lexer": "ipython3",
   "version": "3.9.1"
  }
 },
 "nbformat": 4,
 "nbformat_minor": 4
}
