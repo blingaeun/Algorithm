{
 "cells": [
  {
   "cell_type": "markdown",
   "metadata": {},
   "source": [
    "# 다각형의 면적"
   ]
  },
  {
   "cell_type": "code",
   "execution_count": 1,
   "metadata": {},
   "outputs": [
    {
     "name": "stdout",
     "output_type": "stream",
     "text": [
      "4\n",
      "0 0\n",
      "0 10\n",
      "10 10\n",
      "10 0\n",
      "100.0\n"
     ]
    }
   ],
   "source": [
    "N  = int(input())\n",
    "ass = [[]]*N\n",
    "for i in range(N):\n",
    "    ass[i] = list(map(int, input().split()))\n",
    "    \n",
    "ass.append(ass[0])\n",
    "left=0\n",
    "right =0\n",
    "import math\n",
    "for i in range(N):\n",
    "    left+=ass[i][0]*ass[i+1][1]\n",
    "    right +=ass[i][1]*ass[i+1][0]\n",
    "\n",
    "print(((round(abs(left-right)/2*100)//10)/10))"
   ]
  }
 ],
 "metadata": {
  "kernelspec": {
   "display_name": "Python 3",
   "language": "python",
   "name": "python3"
  },
  "language_info": {
   "codemirror_mode": {
    "name": "ipython",
    "version": 3
   },
   "file_extension": ".py",
   "mimetype": "text/x-python",
   "name": "python",
   "nbconvert_exporter": "python",
   "pygments_lexer": "ipython3",
   "version": "3.9.1"
  }
 },
 "nbformat": 4,
 "nbformat_minor": 4
}
