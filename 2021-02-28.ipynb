{
 "cells": [
  {
   "cell_type": "markdown",
   "metadata": {},
   "source": [
    "# N-Queen"
   ]
  },
  {
   "cell_type": "code",
   "execution_count": 1,
   "metadata": {},
   "outputs": [
    {
     "name": "stdout",
     "output_type": "stream",
     "text": [
      "8\n",
      "92\n"
     ]
    }
   ],
   "source": [
    "def adjacent(x):\n",
    "    for i in range(x):\n",
    "        if row[x] == row[i] or abs(row[x] - row[i]) == x - i:\n",
    "            return False\n",
    "    return True\n",
    "        \n",
    "\n",
    "def dfs(x):\n",
    "    global result\n",
    "    \n",
    "    if x == N:\n",
    "        result += 1\n",
    "\n",
    "    else:\n",
    "        for i in range(N):\n",
    "            row[x] = i\n",
    "            if adjacent(x):\n",
    "                dfs(x + 1)\n",
    "\n",
    "N = int(input())\n",
    "row = [0] * N\n",
    "result = 0\n",
    "dfs(0)\n",
    "print(result)"
   ]
  }
 ],
 "metadata": {
  "kernelspec": {
   "display_name": "Python 3",
   "language": "python",
   "name": "python3"
  },
  "language_info": {
   "codemirror_mode": {
    "name": "ipython",
    "version": 3
   },
   "file_extension": ".py",
   "mimetype": "text/x-python",
   "name": "python",
   "nbconvert_exporter": "python",
   "pygments_lexer": "ipython3",
   "version": "3.9.1"
  }
 },
 "nbformat": 4,
 "nbformat_minor": 4
}
