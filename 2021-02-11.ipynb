{
 "cells": [
  {
   "cell_type": "markdown",
   "metadata": {},
   "source": [
    "# 트리의 부모 찾기"
   ]
  },
  {
   "cell_type": "code",
   "execution_count": 1,
   "metadata": {},
   "outputs": [
    {
     "name": "stdout",
     "output_type": "stream",
     "text": [
      "7\n",
      "1 6\n",
      "6 3\n",
      "3 5\n",
      "4 1\n",
      "2 4\n",
      "4 7\n",
      "4\n",
      "6\n",
      "1\n",
      "3\n",
      "1\n",
      "4\n"
     ]
    }
   ],
   "source": [
    "\n",
    "node = int(input())\n",
    "node_graph = [[] for _ in range(node + 1)]\n",
    "parent = [[] for _ in range(node + 1)]\n",
    "\n",
    "#트리를 그래프 형태로 생성\n",
    "\n",
    "for _ in range(node - 1):\n",
    "    i, j = map(int, input().split())\n",
    "    node_graph[i].append(j)\n",
    "    node_graph[j].append(i)\n",
    "\n",
    "#DFS나 BFS나 무관\n",
    "\n",
    "def dfs(graph_list, start, parent):\n",
    "    stack = [start]\n",
    "    \n",
    "    while stack:\n",
    "        node = stack.pop()\n",
    "        for i in graph_list[node]:\n",
    "            parent[i].append(node)\n",
    "            stack.append(i)\n",
    "            graph_list[i].remove(node)\n",
    "    return parent\n",
    "\n",
    "for i in list(dfs(node_graph, 1, parent))[2:]:\n",
    "    print(i[0])"
   ]
  },
  {
   "cell_type": "code",
   "execution_count": null,
   "metadata": {},
   "outputs": [],
   "source": []
  }
 ],
 "metadata": {
  "kernelspec": {
   "display_name": "Python 3",
   "language": "python",
   "name": "python3"
  },
  "language_info": {
   "codemirror_mode": {
    "name": "ipython",
    "version": 3
   },
   "file_extension": ".py",
   "mimetype": "text/x-python",
   "name": "python",
   "nbconvert_exporter": "python",
   "pygments_lexer": "ipython3",
   "version": "3.9.1"
  }
 },
 "nbformat": 4,
 "nbformat_minor": 4
}
