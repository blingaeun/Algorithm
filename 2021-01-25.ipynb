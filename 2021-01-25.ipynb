{
 "cells": [
  {
   "cell_type": "markdown",
   "metadata": {},
   "source": [
    "# 네 번째 점"
   ]
  },
  {
   "cell_type": "code",
   "execution_count": 1,
   "metadata": {},
   "outputs": [
    {
     "name": "stdout",
     "output_type": "stream",
     "text": [
      "30 20\n",
      "10 10\n",
      "10 20\n",
      "30 10\n"
     ]
    }
   ],
   "source": [
    "x_ = []\n",
    "y_ = []\n",
    "for i in range(3):\n",
    "        x, y = map(int, input().split())\n",
    "        x_.append(x)\n",
    "        y_.append(y)\n",
    "for i in range(3):\n",
    "        if x_.count(x_[i]) == 1:\n",
    "                x = x_[i]\n",
    "        if y_.count(y_[i]) == 1:\n",
    "                y = y_[i]\n",
    "print(x, y)"
   ]
  },
  {
   "cell_type": "markdown",
   "metadata": {},
   "source": [
    "# 터렛"
   ]
  },
  {
   "cell_type": "code",
   "execution_count": 2,
   "metadata": {},
   "outputs": [
    {
     "name": "stdout",
     "output_type": "stream",
     "text": [
      "3\n",
      "0 0 13 40 0 37\n",
      "2\n",
      "0 0 3 0 7 4\n",
      "1\n",
      "1 1 1 1 1 5\n",
      "0\n"
     ]
    }
   ],
   "source": [
    "t = int(input())\n",
    "for i in range(t):\n",
    "    x1, y1, r1, x2, y2, r2 = map(int, input().split())\n",
    "    d = ((x2 - x1) ** 2 + (y2 - y1) ** 2) ** 0.5\n",
    "    rs = r1 + r2\n",
    "    rm = abs(r1 - r2)\n",
    "    if d == 0:\n",
    "        if r1 == r2:\n",
    "            print(-1)\n",
    "        else:\n",
    "            print(0)\n",
    "    else:\n",
    "        if d == rs or d == rm:\n",
    "            print(1)\n",
    "        elif d < rs and d > rm:\n",
    "            print(2)\n",
    "        else:\n",
    "            print(0)"
   ]
  }
 ],
 "metadata": {
  "kernelspec": {
   "display_name": "Python 3",
   "language": "python",
   "name": "python3"
  },
  "language_info": {
   "codemirror_mode": {
    "name": "ipython",
    "version": 3
   },
   "file_extension": ".py",
   "mimetype": "text/x-python",
   "name": "python",
   "nbconvert_exporter": "python",
   "pygments_lexer": "ipython3",
   "version": "3.9.1"
  }
 },
 "nbformat": 4,
 "nbformat_minor": 4
}
