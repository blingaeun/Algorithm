{
 "cells": [
  {
   "cell_type": "markdown",
   "metadata": {},
   "source": [
    "# 덩치"
   ]
  },
  {
   "cell_type": "code",
   "execution_count": 1,
   "metadata": {},
   "outputs": [
    {
     "name": "stdout",
     "output_type": "stream",
     "text": [
      "5\n",
      "55 185\n",
      "58 183\n",
      "88 186\n",
      "60 175\n",
      "46 155\n",
      "2 2 1 2 5 "
     ]
    }
   ],
   "source": [
    "num_student = int(input())\n",
    "student_list = []\n",
    "\n",
    "for _ in range(num_student):\n",
    "    weight, height = map(int, input().split())\n",
    "    student_list.append((weight, height))\n",
    "\n",
    "for i in student_list:\n",
    "    rank = 1\n",
    "    for j in student_list:\n",
    "        if i[0] < j[0] and i[1] < j[1]:\n",
    "                rank += 1\n",
    "    print(rank, end = \" \")"
   ]
  }
 ],
 "metadata": {
  "kernelspec": {
   "display_name": "Python 3",
   "language": "python",
   "name": "python3"
  },
  "language_info": {
   "codemirror_mode": {
    "name": "ipython",
    "version": 3
   },
   "file_extension": ".py",
   "mimetype": "text/x-python",
   "name": "python",
   "nbconvert_exporter": "python",
   "pygments_lexer": "ipython3",
   "version": "3.9.1"
  }
 },
 "nbformat": 4,
 "nbformat_minor": 4
}
