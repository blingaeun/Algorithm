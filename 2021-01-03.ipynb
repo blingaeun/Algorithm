{
 "cells": [
  {
   "cell_type": "markdown",
   "metadata": {},
   "source": [
    "# 리스트"
   ]
  },
  {
   "cell_type": "code",
   "execution_count": 1,
   "metadata": {},
   "outputs": [
    {
     "name": "stdout",
     "output_type": "stream",
     "text": [
      "['가위', '바위', '보']\n",
      "['hello', 'gaeun', 'study']\n",
      "바위\n",
      "study\n",
      "가위\n",
      "바위\n",
      "보\n"
     ]
    }
   ],
   "source": [
    "list1 = ['가위','바위','보']\n",
    "list2 = ['hello','gaeun','study']\n",
    "\n",
    "print(list1)\n",
    "print(list2)\n",
    "\n",
    "print(list1[1])\n",
    "print(list2[2])\n",
    "print(list1[0])\n",
    "\n",
    "list1[0] = '바위'\n",
    "print(list1[0])\n",
    "\n",
    "print(list1[-1]) # 뒤에서 첫번째 라는 뜻"
   ]
  },
  {
   "cell_type": "code",
   "execution_count": 3,
   "metadata": {},
   "outputs": [
    {
     "name": "stdout",
     "output_type": "stream",
     "text": [
      "무지개의 첫번째 색은 빨강이다\n",
      "무지개의 마지막 색은 보라이다\n"
     ]
    }
   ],
   "source": [
    "rainbow=['빨강','주황','노랑','초록','파랑','남색','보라']\n",
    "\n",
    "first_color = rainbow[0]\n",
    "\n",
    "print('무지개의 첫번째 색은 {}이다'.format(first_color) )\n",
    "\n",
    "last_color = rainbow[-1]\n",
    "\n",
    "print('무지개의 마지막 색은 {}이다'.format(last_color) )"
   ]
  },
  {
   "cell_type": "code",
   "execution_count": 5,
   "metadata": {},
   "outputs": [
    {
     "name": "stdout",
     "output_type": "stream",
     "text": [
      "[37, 23, 10, 33, 29, 40]\n",
      "[37, 23, 10, 33, 29, 40, 16]\n",
      "[37, 23, 10, 33, 29, 40, 16, 16]\n",
      "False\n",
      "10은 있어!\n",
      "[37, 23, 10, 33, 29, 40, 16, 16]\n",
      "[23, 10, 33, 29, 40, 16, 16]\n",
      "[23, 33, 29, 40, 16, 16]\n"
     ]
    }
   ],
   "source": [
    "list2 = [37, 23, 10, 33, 29, 40]\n",
    "print(list2)\n",
    "\n",
    "list2.append(16)\n",
    "print(list2)\n",
    "\n",
    "list3 = list2 + [16]\n",
    "print(list3)\n",
    "\n",
    "n = 12\n",
    "ownership = n in list3\n",
    "print(ownership)\n",
    "\n",
    "n = 10\n",
    "if n in list3:\n",
    "    print('{}은 있어!'.format(n))\n",
    "\n",
    "print(list3)\n",
    "del list3[0]\n",
    "print(list3)\n",
    "\n",
    "list3.remove(10)\n",
    "print(list3)"
   ]
  },
  {
   "cell_type": "code",
   "execution_count": 6,
   "metadata": {},
   "outputs": [
    {
     "name": "stdout",
     "output_type": "stream",
     "text": [
      "[1, 2, 3, 4]\n"
     ]
    }
   ],
   "source": [
    "list1=[1,2,3]\n",
    "\n",
    "list1.append(4)\n",
    "\n",
    "print(list1)"
   ]
  },
  {
   "cell_type": "code",
   "execution_count": 7,
   "metadata": {},
   "outputs": [
    {
     "name": "stdout",
     "output_type": "stream",
     "text": [
      "[1, 2, 3, 4, 5, 6]\n"
     ]
    }
   ],
   "source": [
    "list1=[1,2,3]\n",
    "list2=[4,5,6]\n",
    "list3 =list1 + list2\n",
    "\n",
    "print(list3)"
   ]
  },
  {
   "cell_type": "code",
   "execution_count": 9,
   "metadata": {},
   "outputs": [
    {
     "name": "stdout",
     "output_type": "stream",
     "text": [
      "5가 있다!!\n"
     ]
    }
   ],
   "source": [
    "numbers = [1, 2, 3, 4, 5]\n",
    "if 5 in numbers:\n",
    "    print('5가 있다!!')"
   ]
  },
  {
   "cell_type": "code",
   "execution_count": 10,
   "metadata": {},
   "outputs": [
    {
     "name": "stdout",
     "output_type": "stream",
     "text": [
      "[1, 3]\n"
     ]
    }
   ],
   "source": [
    "list1=[1,2,3]\n",
    "\n",
    "list1.remove(2) # 리스트에 2라는 값이 있으면 지움\n",
    "del list1[1] # 리스트의 2번째 값을 지움\n",
    "\n",
    "print(list1)"
   ]
  },
  {
   "cell_type": "markdown",
   "metadata": {},
   "source": [
    "# for 문"
   ]
  },
  {
   "cell_type": "code",
   "execution_count": 11,
   "metadata": {},
   "outputs": [
    {
     "name": "stdout",
     "output_type": "stream",
     "text": [
      "빨강\n",
      "주황\n",
      "노랑\n",
      "초록\n",
      "파랑\n",
      "남색\n",
      "보라\n"
     ]
    }
   ],
   "source": [
    "rainbows = ['빨강','주황','노랑','초록','파랑','남색','보라']\n",
    "for rainbow in rainbows:\n",
    "    '''\n",
    "    rainbow = rainbows[0]\n",
    "    print(rainbow)\n",
    "    rainbow = rainbows[1]\n",
    "    print(rainbow)\n",
    "    rainbow = rainbows[2]\n",
    "    print(rainbow)\n",
    "    ...\n",
    "    '''\n",
    "    print(rainbow)"
   ]
  },
  {
   "cell_type": "code",
   "execution_count": null,
   "metadata": {},
   "outputs": [],
   "source": []
  }
 ],
 "metadata": {
  "kernelspec": {
   "display_name": "Python 3",
   "language": "python",
   "name": "python3"
  },
  "language_info": {
   "codemirror_mode": {
    "name": "ipython",
    "version": 3
   },
   "file_extension": ".py",
   "mimetype": "text/x-python",
   "name": "python",
   "nbconvert_exporter": "python",
   "pygments_lexer": "ipython3",
   "version": "3.9.1"
  }
 },
 "nbformat": 4,
 "nbformat_minor": 4
}
