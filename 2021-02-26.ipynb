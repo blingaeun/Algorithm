{
 "cells": [
  {
   "cell_type": "markdown",
   "metadata": {},
   "source": [
    "# 패션왕 신해빈"
   ]
  },
  {
   "cell_type": "code",
   "execution_count": 1,
   "metadata": {},
   "outputs": [
    {
     "name": "stdout",
     "output_type": "stream",
     "text": [
      "2\n",
      "3\n",
      "hat headgear\n",
      "sunglasses eyewear\n",
      "turban headgear\n",
      "5\n",
      "3\n",
      "mask face\n",
      "sungalsses face\n",
      "makeup face\n",
      "3\n"
     ]
    }
   ],
   "source": [
    "T = int(input())\n",
    "\n",
    "for _ in range(T):\n",
    "    n = int(input())\n",
    "    \n",
    "    \n",
    "    if n == 0:\n",
    "        print(0)\n",
    "        continue\n",
    "    \n",
    "    wearable = dict()\n",
    "    for _ in range(n):\n",
    "        wear_name, wear_type = map(str, input().split())\n",
    "        \n",
    "\n",
    "        if wear_type in wearable.keys():\n",
    "            wearable[wear_type] += 1\n",
    "        else:\n",
    "            wearable[wear_type] = 1\n",
    "        \n",
    "        answer = 1\n",
    "        for key in wearable.keys():\n",
    "            answer *= wearable[key] + 1\n",
    "\n",
    "    print(answer - 1)"
   ]
  }
 ],
 "metadata": {
  "kernelspec": {
   "display_name": "Python 3",
   "language": "python",
   "name": "python3"
  },
  "language_info": {
   "codemirror_mode": {
    "name": "ipython",
    "version": 3
   },
   "file_extension": ".py",
   "mimetype": "text/x-python",
   "name": "python",
   "nbconvert_exporter": "python",
   "pygments_lexer": "ipython3",
   "version": "3.9.1"
  }
 },
 "nbformat": 4,
 "nbformat_minor": 4
}
