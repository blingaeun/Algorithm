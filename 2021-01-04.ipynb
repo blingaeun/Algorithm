{
 "cells": [
  {
   "cell_type": "markdown",
   "metadata": {},
   "source": [
    "# for in range"
   ]
  },
  {
   "cell_type": "code",
   "execution_count": 1,
   "metadata": {},
   "outputs": [
    {
     "name": "stdout",
     "output_type": "stream",
     "text": [
      "0\n",
      "1\n",
      "2\n",
      "3\n",
      "4\n",
      "5\n",
      "6\n",
      "7\n",
      "8\n",
      "9\n"
     ]
    }
   ],
   "source": [
    "for i in range(10):\n",
    "    print(i)"
   ]
  },
  {
   "cell_type": "code",
   "execution_count": 2,
   "metadata": {},
   "outputs": [
    {
     "name": "stdout",
     "output_type": "stream",
     "text": [
      "1번: 철수\n",
      "2번: 영희\n",
      "3번: 가은\n",
      "4번: 지원\n"
     ]
    }
   ],
   "source": [
    "names = ['철수', '영희', '가은', '지원']\n",
    "\n",
    "for i in range(4):\n",
    "    name = names[i]\n",
    "    print('{}번: {}'.format(i+1, name))"
   ]
  },
  {
   "cell_type": "code",
   "execution_count": 3,
   "metadata": {},
   "outputs": [
    {
     "name": "stdout",
     "output_type": "stream",
     "text": [
      "1번: 철수\n",
      "2번: 영희\n",
      "3번: 가은\n",
      "4번: 지원\n"
     ]
    }
   ],
   "source": [
    "for i, name in enumerate(names):\n",
    "    print('{}번: {}'.format(i+1, name))"
   ]
  },
  {
   "cell_type": "code",
   "execution_count": null,
   "metadata": {},
   "outputs": [],
   "source": [
    "for i in range(11172):\n",
    "    print(char(44032 + i), end='')"
   ]
  },
  {
   "cell_type": "code",
   "execution_count": 4,
   "metadata": {},
   "outputs": [
    {
     "name": "stdout",
     "output_type": "stream",
     "text": [
      "1번 : 철수\n",
      "2번 : 영희\n",
      "3번 : 바둑이\n",
      "4번 : 귀도\n",
      "5번 : 비단뱀\n"
     ]
    }
   ],
   "source": [
    "names = ['철수', '영희', '바둑이', '귀도', '비단뱀']\n",
    "\n",
    "for i in range(len(names)):\n",
    "    name = names[i]\n",
    "    print('{}번 : {}'.format(i + 1, name))"
   ]
  },
  {
   "cell_type": "code",
   "execution_count": 5,
   "metadata": {},
   "outputs": [
    {
     "name": "stdout",
     "output_type": "stream",
     "text": [
      "1월의 날짜수는 31일 입니다.\n",
      "2월의 날짜수는 29일 입니다.\n",
      "3월의 날짜수는 31일 입니다.\n",
      "4월의 날짜수는 30일 입니다.\n",
      "5월의 날짜수는 31일 입니다.\n",
      "6월의 날짜수는 30일 입니다.\n",
      "7월의 날짜수는 31일 입니다.\n",
      "8월의 날짜수는 31일 입니다.\n",
      "9월의 날짜수는 30일 입니다.\n",
      "10월의 날짜수는 31일 입니다.\n",
      "11월의 날짜수는 30일 입니다.\n",
      "12월의 날짜수는 31일 입니다.\n"
     ]
    }
   ],
   "source": [
    "days = [31,29,31,30,31,30,31,31,30,31,30,31]\n",
    "\n",
    "for i in range(12):\n",
    "    day = days[i] \n",
    "    print('{}월의 날짜수는 {}일 입니다.'.format(i+1, day ))"
   ]
  },
  {
   "cell_type": "code",
   "execution_count": null,
   "metadata": {},
   "outputs": [],
   "source": []
  }
 ],
 "metadata": {
  "kernelspec": {
   "display_name": "Python 3",
   "language": "python",
   "name": "python3"
  },
  "language_info": {
   "codemirror_mode": {
    "name": "ipython",
    "version": 3
   },
   "file_extension": ".py",
   "mimetype": "text/x-python",
   "name": "python",
   "nbconvert_exporter": "python",
   "pygments_lexer": "ipython3",
   "version": "3.9.1"
  }
 },
 "nbformat": 4,
 "nbformat_minor": 4
}
