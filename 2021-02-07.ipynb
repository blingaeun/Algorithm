{
 "cells": [
  {
   "cell_type": "markdown",
   "metadata": {},
   "source": [
    "# 곱셈"
   ]
  },
  {
   "cell_type": "code",
   "execution_count": 1,
   "metadata": {},
   "outputs": [
    {
     "name": "stdout",
     "output_type": "stream",
     "text": [
      "10 11 12\n",
      "4\n"
     ]
    }
   ],
   "source": [
    "def power(a, b):\n",
    "    if b == 1:\n",
    "        return a % C\n",
    "    else:\n",
    "        temp = power(a, b // 2)\n",
    "        if b % 2 == 0:\n",
    "            return temp * temp % C\n",
    "        else:\n",
    "            return temp * temp * a % C\n",
    "\n",
    "\n",
    "if __name__ == \"__main__\":\n",
    "    A, B, C = map(int, input().split())\n",
    "\n",
    "    result = power(A, B)\n",
    "    print(result)"
   ]
  }
 ],
 "metadata": {
  "kernelspec": {
   "display_name": "Python 3",
   "language": "python",
   "name": "python3"
  },
  "language_info": {
   "codemirror_mode": {
    "name": "ipython",
    "version": 3
   },
   "file_extension": ".py",
   "mimetype": "text/x-python",
   "name": "python",
   "nbconvert_exporter": "python",
   "pygments_lexer": "ipython3",
   "version": "3.9.1"
  }
 },
 "nbformat": 4,
 "nbformat_minor": 4
}
