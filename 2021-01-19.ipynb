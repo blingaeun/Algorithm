{
 "cells": [
  {
   "cell_type": "markdown",
   "metadata": {},
   "source": [
    "# 소수 찾기"
   ]
  },
  {
   "cell_type": "code",
   "execution_count": 6,
   "metadata": {},
   "outputs": [
    {
     "name": "stdout",
     "output_type": "stream",
     "text": [
      "4\n",
      "1 3 5 7\n",
      "3\n"
     ]
    }
   ],
   "source": [
    "N = int(input())\n",
    "\n",
    "a = list(map(int,input().split()))\n",
    "\n",
    "def sosu(num):\n",
    "        if num == 1:\n",
    "             return False\n",
    "        elif num == 2:\n",
    "             return True\n",
    "        for i in range(2,num):\n",
    "             if num % i == 0:\n",
    "                return False\n",
    "        return True\n",
    "count = 0\n",
    "for i in a:\n",
    "         if sosu(i):\n",
    "             count += 1\n",
    "print(count)"
   ]
  },
  {
   "cell_type": "markdown",
   "metadata": {},
   "source": [
    "# 소수"
   ]
  },
  {
   "cell_type": "code",
   "execution_count": 17,
   "metadata": {},
   "outputs": [
    {
     "name": "stdout",
     "output_type": "stream",
     "text": [
      "64\n",
      "65\n",
      "-1\n"
     ]
    }
   ],
   "source": [
    "M = int(input())\n",
    "N = int(input())\n",
    "\n",
    "def sosu(num):\n",
    "        if num == 1:\n",
    "             return False\n",
    "        elif num == 2:\n",
    "             return True\n",
    "        for i in range(2,num):\n",
    "             if num % i == 0:\n",
    "                return False\n",
    "        return True\n",
    "hap = 0\n",
    "a = []\n",
    "for i in range(M,N+1):\n",
    "         if sosu(i):\n",
    "            hap += i\n",
    "            a.append(i)\n",
    "\n",
    "if len(a) == 0:\n",
    "    print('-1')\n",
    "else:\n",
    "    print(hap)\n",
    "    print(a[0])"
   ]
  },
  {
   "cell_type": "markdown",
   "metadata": {},
   "source": [
    "# 소수 구하기"
   ]
  },
  {
   "cell_type": "code",
   "execution_count": 18,
   "metadata": {},
   "outputs": [
    {
     "name": "stdout",
     "output_type": "stream",
     "text": [
      "3 16\n",
      "3\n",
      "5\n",
      "7\n",
      "11\n",
      "13\n"
     ]
    }
   ],
   "source": [
    "M, N = map(int,input().split())\n",
    "\n",
    "def sosu(num):\n",
    "        if num == 1:\n",
    "             return False\n",
    "        elif num == 2:\n",
    "             return True\n",
    "        for i in range(2,num):\n",
    "             if num % i == 0:\n",
    "                return False\n",
    "        return True\n",
    "\n",
    "for i in range (M,N+1):\n",
    "         if sosu(i):\n",
    "             print(i)"
   ]
  }
 ],
 "metadata": {
  "kernelspec": {
   "display_name": "Python 3",
   "language": "python",
   "name": "python3"
  },
  "language_info": {
   "codemirror_mode": {
    "name": "ipython",
    "version": 3
   },
   "file_extension": ".py",
   "mimetype": "text/x-python",
   "name": "python",
   "nbconvert_exporter": "python",
   "pygments_lexer": "ipython3",
   "version": "3.9.1"
  }
 },
 "nbformat": 4,
 "nbformat_minor": 4
}
