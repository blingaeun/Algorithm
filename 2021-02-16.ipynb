{
 "cells": [
  {
   "cell_type": "markdown",
   "metadata": {},
   "source": [
    "# 최단경로"
   ]
  },
  {
   "cell_type": "code",
   "execution_count": null,
   "metadata": {},
   "outputs": [],
   "source": [
    "import sys\n",
    "from heapq import heappush, heappop\n",
    "r = sys.stdin.readline\n",
    "INF = 1e9\n",
    "\n",
    "\n",
    "def dijkstra(v, k, g):\n",
    "    dist = [INF] * v\n",
    "    dist[k - 1] = 0\n",
    "    q = []\n",
    "    heappush(q, [0, k-1])\n",
    "\n",
    "    while q:\n",
    "        cost, pos = heappop(q)\n",
    "\n",
    "        for p, c in g[pos]:\n",
    "            c += cost\n",
    "            if c < dist[p]:\n",
    "                dist[p] = c\n",
    "                heappush(q, [c, p])\n",
    "\n",
    "    return dist\n",
    "\n",
    "\n",
    "V, E = map(int, r().split())\n",
    "K = int(r())\n",
    "graph = [[] for _ in range(V)]\n",
    "for _ in range(E):\n",
    "    u, v, w = map(int, r().split())\n",
    "    graph[u-1].append([v-1, w])\n",
    "\n",
    "for d in dijkstra(V, K, graph):\n",
    "    print(d if d != INF else \"INF\")\n",
    "\n"
   ]
  }
 ],
 "metadata": {
  "kernelspec": {
   "display_name": "Python 3",
   "language": "python",
   "name": "python3"
  },
  "language_info": {
   "codemirror_mode": {
    "name": "ipython",
    "version": 3
   },
   "file_extension": ".py",
   "mimetype": "text/x-python",
   "name": "python",
   "nbconvert_exporter": "python",
   "pygments_lexer": "ipython3",
   "version": "3.9.1"
  }
 },
 "nbformat": 4,
 "nbformat_minor": 4
}
