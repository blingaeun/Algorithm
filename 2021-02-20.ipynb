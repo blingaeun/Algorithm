{
 "cells": [
  {
   "cell_type": "markdown",
   "metadata": {},
   "source": [
    "# 검문"
   ]
  },
  {
   "cell_type": "code",
   "execution_count": 1,
   "metadata": {},
   "outputs": [
    {
     "name": "stdout",
     "output_type": "stream",
     "text": [
      "3\n",
      "6\n",
      "34\n",
      "38\n",
      "2 4 "
     ]
    }
   ],
   "source": [
    "import math\n",
    "t = int(input())\n",
    "s = []\n",
    "a = []\n",
    "gcd = 0\n",
    "for i in range(t):\n",
    "    s.append(int(input()))\n",
    "    if i == 1:\n",
    "        gcd = abs(s[1] - s[0])\n",
    "    gcd = math.gcd(abs(s[i] - s[i - 1]), gcd)\n",
    "gcd_a = int(gcd ** 0.5)\n",
    "for i in range(2, gcd_a + 1):\n",
    "    if gcd % i == 0:\n",
    "        a.append(i)\n",
    "        a.append(gcd // i)\n",
    "a.append(gcd)\n",
    "a = list(set(a))\n",
    "a.sort()\n",
    "for i in a:\n",
    "    print(i, end = ' ')"
   ]
  }
 ],
 "metadata": {
  "kernelspec": {
   "display_name": "Python 3",
   "language": "python",
   "name": "python3"
  },
  "language_info": {
   "codemirror_mode": {
    "name": "ipython",
    "version": 3
   },
   "file_extension": ".py",
   "mimetype": "text/x-python",
   "name": "python",
   "nbconvert_exporter": "python",
   "pygments_lexer": "ipython3",
   "version": "3.9.1"
  }
 },
 "nbformat": 4,
 "nbformat_minor": 4
}
